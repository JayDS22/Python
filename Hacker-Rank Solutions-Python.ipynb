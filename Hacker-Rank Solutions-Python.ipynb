{
 "cells": [
  {
   "cell_type": "code",
   "execution_count": 1,
   "id": "58fc6dd4",
   "metadata": {},
   "outputs": [
    {
     "name": "stdout",
     "output_type": "stream",
     "text": [
      "3\n",
      "2\n",
      "5 \n",
      "1 \n",
      "6\n"
     ]
    }
   ],
   "source": [
    "#Arithematic Operators\n",
    "if __name__ == '__main__':\n",
    "    a = int(input())\n",
    "    b = int(input())\n",
    "    \n",
    "\n",
    "    print('{0} \\n{1} \\n{2}'.format((a + b), (a - b), (a * b)))"
   ]
  },
  {
   "cell_type": "code",
   "execution_count": 4,
   "id": "22ebbd2e",
   "metadata": {},
   "outputs": [
    {
     "name": "stdout",
     "output_type": "stream",
     "text": [
      "1\n",
      "2\n",
      "0 \n",
      "0.5\n"
     ]
    }
   ],
   "source": [
    "#Division'\n",
    "if __name__ == '__main__':\n",
    "    a = int(input())\n",
    "    b = int(input())\n",
    "    \n",
    "    print('{0} \\n{1}'.format((a//b), (a/b)))"
   ]
  },
  {
   "cell_type": "code",
   "execution_count": 2,
   "id": "3d4e682d",
   "metadata": {},
   "outputs": [
    {
     "name": "stdout",
     "output_type": "stream",
     "text": [
      "5\n",
      "0\n",
      "1\n",
      "4\n",
      "9\n",
      "16\n"
     ]
    }
   ],
   "source": [
    "#Loops\n",
    "if __name__ == '__main__':\n",
    "    \n",
    "    n=int(input(\"\"))\n",
    "\n",
    "for i in range(0,n): \n",
    "    i= i**2 \n",
    "    print(i)"
   ]
  },
  {
   "cell_type": "code",
   "execution_count": 3,
   "id": "16f20822",
   "metadata": {},
   "outputs": [
    {
     "name": "stdout",
     "output_type": "stream",
     "text": [
      "1990\n",
      "False\n"
     ]
    }
   ],
   "source": [
    "#Print a Function\n",
    "def is_leap(year):\n",
    "    leap = False\n",
    "    \n",
    "    \n",
    "    if year % 400 == 0:\n",
    "        return True\n",
    "    if year % 100 == 0:\n",
    "        return False\n",
    "    if year % 4 == 0:\n",
    "        return True\n",
    "    else:\n",
    "        return False\n",
    "    \n",
    "    return leap\n",
    "\n",
    "year = int(input())\n",
    "print(is_leap(year))"
   ]
  },
  {
   "cell_type": "code",
   "execution_count": 5,
   "id": "9253b8e1",
   "metadata": {},
   "outputs": [
    {
     "name": "stdout",
     "output_type": "stream",
     "text": [
      "3\n",
      "123"
     ]
    }
   ],
   "source": [
    "if __name__ == '__main__':\n",
    "    n = int(input())\n",
    "    \n",
    "    for i in range(1, n+1):\n",
    "        print(i, end=\"\")"
   ]
  },
  {
   "cell_type": "code",
   "execution_count": null,
   "id": "d2403110",
   "metadata": {},
   "outputs": [],
   "source": [
    "#Time Delta\n",
    "from datetime import datetime\n",
    "for _ in range(int(input())):\n",
    "    t1=datetime.strptime(input(),'%a %d %b %Y %H:%M:%S %z')#%a - day, %d - date, %b - Month, %Y-year, %z-Time Zones\n",
    "    t2=datetime.strptime(input(),'%a %d %b %Y %H:%M:%S %z')#strptime - Striptime function that consists of 2 arguments\n",
    "    print (int(abs((t1-t2).total_seconds()))) #Prints Absoulte(abs) difference b/w 2 time stamps(t1, t2)\n"
   ]
  },
  {
   "cell_type": "code",
   "execution_count": null,
   "id": "55f625a0",
   "metadata": {},
   "outputs": [],
   "source": [
    "#Mean, Var, Std.\n",
    "#Anywhere between importing numpy and printing numpy data. It tells the numpy print formatter to use the default \n",
    "#settings from numpy version 1.13 instead of numpy version 1.14 (which is the current version). \n",
    "#The problem-set results are canned, and were apparently done with the old numpy, \n",
    "#so if you don't do this you get various format mismatches which causes failures \n",
    "#in the tests even when you got the actual answers correct.\n",
    "\n",
    "import numpy as np\n",
    "\n",
    "n,m=map(int,input().split())\n",
    "list1=[]\n",
    "for i in range(n):\n",
    "    l=list(map(int,input().split()))\n",
    "    list1.append(l)\n",
    "arr=np.array(list1)\n",
    "print(np.mean(arr,axis=1))\n",
    "print(np.var(arr,axis=0))\n",
    "print(round(np.std(arr, axis=None),11))"
   ]
  },
  {
   "cell_type": "code",
   "execution_count": null,
   "id": "ac062b1d",
   "metadata": {},
   "outputs": [],
   "source": [
    "#List Comprehensions\n",
    "if __name__ == '__main__':\n",
    "    x = int(input())\n",
    "    y = int(input())\n",
    "    z = int(input())\n",
    "    n = int(input())\n",
    "    l=list()\n",
    "    \n",
    "    for i in range(x+1):\n",
    "        for j in range(y+1):\n",
    "            for k in range(z+1):\n",
    "                if (i+j+k!=n):\n",
    "                    l.append([i,j,k])\n",
    "    print(l)"
   ]
  },
  {
   "cell_type": "code",
   "execution_count": null,
   "id": "ea510fe6",
   "metadata": {},
   "outputs": [],
   "source": [
    "#Runner-Up Score\n",
    "if __name__ == '__main__':\n",
    "    n = int(input())\n",
    "    arr = map(int, input().split())\n",
    "    \n",
    "    a=max(arr)\n",
    "    c=arr.count(a)#Count Max Numbers in Array\n",
    "    \n",
    "    for i in range(c):\n",
    "        arr.remove(a)#It will remove max number n given times from Array\n",
    "    \n",
    "    print(max(arr))#Gives the Current Max = Runner-Up"
   ]
  },
  {
   "cell_type": "code",
   "execution_count": null,
   "id": "ecff8272",
   "metadata": {},
   "outputs": [],
   "source": [
    "#Nested Lists\n",
    "if __name__ == '__main__':\n",
    "    dic={}#Created a dictionary To gather student names w.r.t. scores\n",
    "    s=list()#Created a list, to store the scores\n",
    "    for _ in range(int(input())):\n",
    "        name = input()\n",
    "        score = float(input())\n",
    "        if score in dic:\n",
    "            dic[score].append(name)#As per the score already available,it will append nam\n",
    "        else:\n",
    "            dic[score]=[name]#If score is first time in list, will assign a name to it\n",
    "        if score not in s:\n",
    "            s.append(score)#To append existing & new scores in 's' list\n",
    "    \n",
    "    m=min(s)#Gives min. score in list\n",
    "    s.remove(m)#Will remove the min. score\n",
    "    m1=min(s)#Gives 2nd min.\n",
    "    dic[m1].sort()#Will sort 2nd min. scores alphabetically\n",
    "    for i in dic[m1]:#Added for loop as 2nd min. is 2 times\n",
    "        print(i)"
   ]
  },
  {
   "cell_type": "code",
   "execution_count": null,
   "id": "3cff7166",
   "metadata": {},
   "outputs": [],
   "source": [
    "#Finding the Percentage\n",
    "if __name__ == '__main__':\n",
    "    n = int(input())\n",
    "    student_marks = {}\n",
    "    for _ in range(n):\n",
    "        name, *line = input().split()\n",
    "        scores = list(map(float, line))\n",
    "        student_marks[name] = scores\n",
    "    query_name = input()#Name of student to the query\n",
    "    \n",
    "    s=0\n",
    "    \n",
    "    for i in student_marks[query_name]:\n",
    "        s=s+i\n",
    "    print(\"{0:.2f}\".format(s/3))#Will give a formated o/p with 0 after 2 number (.)\n",
    "    #divided by 3 for 3 subjects |s=sum+student no. in query"
   ]
  },
  {
   "cell_type": "code",
   "execution_count": null,
   "id": "f7f76754",
   "metadata": {},
   "outputs": [],
   "source": [
    "#Lists\n",
    "lst=[]   \n",
    "n=int(input())\n",
    " for i in range(n):\n",
    "    cmd=input().split()\n",
    "    if cmd[0]=='insert':\n",
    "        lst.insert(int(cmd[1], int(cmd[2])))\n",
    "    elif cmd[0]=='print':\n",
    "        print(lst)\n",
    "    elif cmd[0]=='remove':\n",
    "        lst.remove(int(cmd[1]))\n",
    "    elif cmd[0]=='append':\n",
    "        lst.append(int(cmd[1]))\n",
    "    elif cmd[0]=='sort':\n",
    "        lst.sort()\n",
    "    elif cmd[0]=='pop':\n",
    "        lst.pop()\n",
    "    else:\n",
    "        lst.reverse()\n",
    "        "
   ]
  },
  {
   "cell_type": "code",
   "execution_count": null,
   "id": "3fa6b75a",
   "metadata": {},
   "outputs": [],
   "source": [
    "#Swap Case\n",
    "def change(c):#Pass the function name\n",
    "    if str.islower(c):\n",
    "        return str.upper(c)\n",
    "    else:\n",
    "        return str.lower(c)\n",
    "#Every char. goes in the above function\n",
    "#Then it joins below, with Swap_case\n",
    "def swap_case(s):\n",
    "    return ''.join(map(change,s))#Passing Elements of s list to change\n",
    "\n",
    "if __name__ == '__main__':\n",
    "    s = input()\n",
    "    result = swap_case(s)\n",
    "    print(result)"
   ]
  },
  {
   "cell_type": "code",
   "execution_count": null,
   "id": "9f1aec60",
   "metadata": {},
   "outputs": [],
   "source": [
    "#Valid Postal Code\n",
    "regex_integer_in_range = r\"_________\"\t# Do not delete 'r'.\n",
    "regex_alternating_repetitive_digit_pair = r\"_________\"\t# Do not delete 'r'.\n",
    "\n",
    "regex_integer_in_range = r\"^[1-9]\\d{5}$\"\n",
    "regex_alternating_repetitive_digit_pair = r\"(?=(\\d)\\d\\1)\"\n",
    "\n",
    "import re\n",
    "P = input()\n",
    "\n",
    "print (bool(re.match(regex_integer_in_range, P)) \n",
    "and len(re.findall(regex_alternating_repetitive_digit_pair, P)) < 2)"
   ]
  },
  {
   "cell_type": "code",
   "execution_count": null,
   "id": "39fe43a0",
   "metadata": {},
   "outputs": [],
   "source": [
    "#String Split & Join\n",
    "def split_and_join(line):\n",
    "    return '-'.join(line.split())#We want to return line with dashes and split line by space | space is a default delimeter\n",
    "\n",
    "if __name__ == '__main__':\n",
    "    line = input()\n",
    "    result = split_and_join(line)\n",
    "    print(result)"
   ]
  },
  {
   "cell_type": "code",
   "execution_count": null,
   "id": "38c453ae",
   "metadata": {},
   "outputs": [],
   "source": [
    "#What's your Name?\n",
    "def print_full_name(first, last):\n",
    "    print(\"Hello \"+first+\" \"+last+\"! You just delved into python.\")#To give space b/w first & last name\n",
    "\n",
    "if __name__ == '__main__':\n",
    "    first_name = input()\n",
    "    last_name = input()\n",
    "    print_full_name(first_name, last_name)"
   ]
  },
  {
   "cell_type": "code",
   "execution_count": null,
   "id": "62465f2a",
   "metadata": {},
   "outputs": [],
   "source": [
    "#Mutations\n",
    "def mutate_string(string, position, character):\n",
    "    return string[:position]+character+string[position+1:]#Gives list from start till the input position\n",
    "\n",
    "if __name__ == '__main__':\n",
    "    s = input()\n",
    "    i, c = input().split()\n",
    "    s_new = mutate_string(s, int(i), c)\n",
    "    print(s_new)"
   ]
  },
  {
   "cell_type": "code",
   "execution_count": null,
   "id": "de8c303f",
   "metadata": {},
   "outputs": [],
   "source": [
    "#String Validator\n",
    "if __name__ == '__main__':\n",
    "    s = input()\n",
    "    print(any([i.isalnum() for i in s])) #Checks if any value in I/P is Alphnumeric or not\n",
    "    print(any([i.isalpha() for i in s]))\n",
    "    print(any([i.isdigit() for i in s]))\n",
    "    print(any([i.islower() for i in s]))\n",
    "    print(any([i.isupper() for i in s]))"
   ]
  },
  {
   "cell_type": "code",
   "execution_count": null,
   "id": "0c530eaf",
   "metadata": {},
   "outputs": [],
   "source": [
    "#Find String\n",
    "def count_substring(string, sub_string):\n",
    "    ml=len(string)\n",
    "    sl=len(sub_string)\n",
    "    c=0\n",
    "    for i in range(ml-sl+1):\n",
    "        if (string[i:(i+sl)==sub_string]):\n",
    "            c=c+1\n",
    "            \n",
    "    return c\n",
    "\n",
    "if __name__ == '__main__':\n",
    "    string = input().strip()\n",
    "    sub_string = input().strip()\n",
    "    \n",
    "    count = count_substring(string, sub_string)\n",
    "    print(count)"
   ]
  },
  {
   "cell_type": "code",
   "execution_count": 6,
   "id": "1a3668a2",
   "metadata": {},
   "outputs": [
    {
     "name": "stdout",
     "output_type": "stream",
     "text": [
      "5\n",
      "--------e--------\n",
      "------e-d-e------\n",
      "----e-d-c-d-e----\n",
      "--e-d-c-b-c-d-e--\n",
      "e-d-c-b-a-b-c-d-e\n",
      "--e-d-c-b-c-d-e--\n",
      "----e-d-c-d-e----\n",
      "------e-d-e------\n",
      "--------e--------\n"
     ]
    }
   ],
   "source": [
    "#Alpha betic Rangoli\n",
    "\n",
    "def print_rangoli(size):\n",
    "    # your code goes here\n",
    "    for i in range(n):\n",
    "        s=\"-\".join(chr(ord('a')+n-j-1)for j in range(i+1))\n",
    "        print((s+s[::-1][1:]).center(n*4-3, '-'))#To get element from end and start\n",
    "        \n",
    "    for i in range(n-1):\n",
    "        s=\"-\".join(chr(ord('a')+n-j-1)for j in range(n-i-1))\n",
    "        print((s+s[::-1][1:]).center(n*4-3, '-'))\n",
    "\n",
    "\n",
    "if __name__ == '__main__':\n",
    "    n = int(input())\n",
    "    print_rangoli(n)"
   ]
  },
  {
   "cell_type": "code",
   "execution_count": null,
   "id": "d4663bbc",
   "metadata": {},
   "outputs": [],
   "source": [
    "#Capitalize\n",
    "def solve(s):\n",
    "    l=s.split(\" \")#Split the word by space\n",
    "    s=''#Declared a string\n",
    "    for i in l:#i is the first letter of every word\n",
    "        s=s+i.capitalize()+' ' #Capitalizes first letter of all words & Saves it in string | Added space b/w 2 words\n",
    "        \n",
    "    return s\n",
    "\n",
    "if __name__ == '__main__':\n",
    "    fptr = open(os.environ['OUTPUT_PATH'], 'w')\n",
    "\n",
    "    s = input()\n",
    "\n",
    "    result = solve(s)\n",
    "\n",
    "    fptr.write(result + '\\n')\n",
    "\n",
    "    fptr.close()"
   ]
  },
  {
   "cell_type": "code",
   "execution_count": null,
   "id": "7dc97581",
   "metadata": {},
   "outputs": [],
   "source": [
    "#Text Wrap\n",
    "import textwrap\n",
    "\n",
    "def wrap(string, max_width):\n",
    "    return textwrap.fill(string,max_width)#Return \"fill\" function from \"Textwrap\" | Part it by \"max_width\" given.\n",
    "\n",
    "\n",
    "if __name__ == '__main__':\n",
    "    string, max_width = input(), int(input())\n",
    "    result = wrap(string, max_width)\n",
    "    print(result)"
   ]
  },
  {
   "cell_type": "code",
   "execution_count": 7,
   "id": "247a40a4",
   "metadata": {},
   "outputs": [
    {
     "name": "stdout",
     "output_type": "stream",
     "text": [
      "08 05 1998\n",
      "WEDNESDAY\n"
     ]
    }
   ],
   "source": [
    "#Calendar Module\n",
    "import calendar\n",
    "m,d,y=map(int,input().split())#Convert the input to int using map | split the inputs to analyse\n",
    "print(list(calendar.day_name)[calendar.weekday(y, m, d)].upper())"
   ]
  },
  {
   "cell_type": "code",
   "execution_count": null,
   "id": "abfd5afc",
   "metadata": {},
   "outputs": [],
   "source": [
    "#Compress the string\n",
    "\n",
    "from itertools import *\n",
    "n=input()\n",
    "\n",
    "for i,j in groupby(n): #i is value | j is count\n",
    "    print(tuple([len(list(j)),int(i)]),end=\" \")\n",
    "#O/P in tuple | len of j needed, so converted it to list | i in integer format | space required b/w 2 tuples."
   ]
  }
 ],
 "metadata": {
  "kernelspec": {
   "display_name": "Python 3",
   "language": "python",
   "name": "python3"
  },
  "language_info": {
   "codemirror_mode": {
    "name": "ipython",
    "version": 3
   },
   "file_extension": ".py",
   "mimetype": "text/x-python",
   "name": "python",
   "nbconvert_exporter": "python",
   "pygments_lexer": "ipython3",
   "version": "3.8.8"
  }
 },
 "nbformat": 4,
 "nbformat_minor": 5
}
