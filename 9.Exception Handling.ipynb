{
 "cells": [
  {
   "cell_type": "code",
   "execution_count": 1,
   "metadata": {},
   "outputs": [
    {
     "name": "stdin",
     "output_type": "stream",
     "text": [
      "Enter the date:  2014, 1, 1\n"
     ]
    },
    {
     "name": "stdout",
     "output_type": "stream",
     "text": [
      " You entered:  (2014, 1, 1)\n"
     ]
    }
   ],
   "source": [
    "# Example for syntax error\n",
    "#Lets try to ind that the entered date is valid or not\n",
    "try:\n",
    "    date=eval(input(\"Enter the date: \"))\n",
    "except SyntaxError: \n",
    "    print(\"Invalid date entered\")\n",
    "else:\n",
    "    print(\" You entered: \", date)\n",
    "    "
   ]
  },
  {
   "cell_type": "code",
   "execution_count": 2,
   "metadata": {},
   "outputs": [
    {
     "name": "stdin",
     "output_type": "stream",
     "text": [
      "Enter a file name:  Jayfile.txt\n"
     ]
    },
    {
     "name": "stdout",
     "output_type": "stream",
     "text": [
      "Jayfile.txt has 1 lines\n"
     ]
    }
   ],
   "source": [
    "#Example for IOError\n",
    "\n",
    "#Lets try to find length of lines in filename\n",
    "\n",
    "try:\n",
    "    name=input(\"Enter a file name: \")\n",
    "    f=open(name, 'r') #To calculate file length, it's necessary to read it\n",
    "except IOError:\n",
    "    print(\"File not found: \", name)\n",
    "else:\n",
    "    n=len(f.readlines())\n",
    "    print(name, \"has\", n, \"lines\") #called out name and n function\n",
    "    f.close()\n",
    "    "
   ]
  },
  {
   "cell_type": "code",
   "execution_count": null,
   "metadata": {},
   "outputs": [],
   "source": []
  },
  {
   "cell_type": "code",
   "execution_count": 2,
   "metadata": {},
   "outputs": [
    {
     "name": "stdin",
     "output_type": "stream",
     "text": [
      "Enter 1 value:  23\n",
      "Enter 2 value:  12\n"
     ]
    },
    {
     "name": "stdout",
     "output_type": "stream",
     "text": [
      "Addition of 23 and  12 is 35\n"
     ]
    }
   ],
   "source": [
    "#Exception/Error Handling\n",
    "#Try except else block\n",
    "try:\n",
    "    num1=int(input(\"Enter 1 value: \"))\n",
    "    num2=int(input(\"Enter 2 value: \"))\n",
    "    result =  num1 + num2\n",
    "except:\n",
    "    print(\"Fuck off\")\n",
    "else:\n",
    "    print(\"Addition of {} and  {} is {}\".format(num1, num2, result))"
   ]
  },
  {
   "cell_type": "markdown",
   "metadata": {},
   "source": [
    "#Numeric Operations in Python"
   ]
  },
  {
   "cell_type": "code",
   "execution_count": null,
   "metadata": {},
   "outputs": [],
   "source": []
  }
 ],
 "metadata": {
  "kernelspec": {
   "display_name": "Python 3",
   "language": "python",
   "name": "python3"
  },
  "language_info": {
   "codemirror_mode": {
    "name": "ipython",
    "version": 3
   },
   "file_extension": ".py",
   "mimetype": "text/x-python",
   "name": "python",
   "nbconvert_exporter": "python",
   "pygments_lexer": "ipython3",
   "version": "3.7.6"
  }
 },
 "nbformat": 4,
 "nbformat_minor": 4
}
