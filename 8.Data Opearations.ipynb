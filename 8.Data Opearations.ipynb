{
 "cells": [
  {
   "cell_type": "code",
   "execution_count": 2,
   "metadata": {},
   "outputs": [
    {
     "name": "stdout",
     "output_type": "stream",
     "text": [
      "3\n"
     ]
    }
   ],
   "source": [
    "num1=23\n",
    "num2=10\n",
    "print(num1%num2)"
   ]
  },
  {
   "cell_type": "code",
   "execution_count": 3,
   "metadata": {},
   "outputs": [
    {
     "name": "stdout",
     "output_type": "stream",
     "text": [
      "1000\n"
     ]
    }
   ],
   "source": [
    "num1=10\n",
    "num2=3\n",
    "print(num1**num2)"
   ]
  },
  {
   "cell_type": "code",
   "execution_count": 4,
   "metadata": {},
   "outputs": [
    {
     "data": {
      "text/plain": [
       "True"
      ]
     },
     "execution_count": 4,
     "metadata": {},
     "output_type": "execute_result"
    }
   ],
   "source": [
    "num1=25\n",
    "num2=15\n",
    "type(num1)==type(num2)"
   ]
  },
  {
   "cell_type": "code",
   "execution_count": 5,
   "metadata": {},
   "outputs": [
    {
     "data": {
      "text/plain": [
       "True"
      ]
     },
     "execution_count": 5,
     "metadata": {},
     "output_type": "execute_result"
    }
   ],
   "source": [
    "var1=\"Jay\"\n",
    "var2=10\n",
    "type(var1)!=type(var2)"
   ]
  },
  {
   "cell_type": "code",
   "execution_count": 6,
   "metadata": {},
   "outputs": [
    {
     "data": {
      "text/plain": [
       "True"
      ]
     },
     "execution_count": 6,
     "metadata": {},
     "output_type": "execute_result"
    }
   ],
   "source": [
    "num1=1000\n",
    "num2-100\n",
    "num1>=num2"
   ]
  },
  {
   "cell_type": "code",
   "execution_count": 9,
   "metadata": {},
   "outputs": [
    {
     "name": "stdout",
     "output_type": "stream",
     "text": [
      "Data type for num1: <class 'int'>\n",
      "Data type for num2 before type casting: <class 'str'>\n",
      "Data type of num2 after type casting: <class 'int'>\n",
      "Addition of num1 and num2:  75\n",
      "Data type of add <class 'int'>\n"
     ]
    }
   ],
   "source": [
    "#Data type casting\n",
    "num1=42\n",
    "num2=\"33\"\n",
    "print(\"Data type for num1:\",type(num1))\n",
    "print(\"Data type for num2 before type casting:\",type(num2))\n",
    "num2=int(num2)\n",
    "print(\"Data type of num2 after type casting:\",type(num2))\n",
    "add=num1+num2\n",
    "print(\"Addition of num1 and num2: \", add)\n",
    "print(\"Data type of add\", type(add))"
   ]
  },
  {
   "cell_type": "code",
   "execution_count": 10,
   "metadata": {},
   "outputs": [
    {
     "name": "stdin",
     "output_type": "stream",
     "text": [
      "Please enter the value of first number 5\n",
      "Please enter the value of econd number 8\n"
     ]
    },
    {
     "name": "stdout",
     "output_type": "stream",
     "text": [
      "Sum of two given numbers:  13.0\n",
      "Difference of two given numbers:  -3.0\n",
      "Product of two numbers:  40.0\n",
      "Division of two numbers:  0.625\n",
      "Modulus of two numbers:  5.0\n",
      "Exponent of two numbers:  390625.0\n"
     ]
    }
   ],
   "source": [
    "#operations on Data\n",
    "#Arthimatic opeartions\n",
    "\n",
    "num1= float(input(\"Please enter the value of first number\"))\n",
    "num2= float(input(\"Please enter the value of econd number\"))\n",
    "\n",
    "#Add two numbers\n",
    "\n",
    "add=num1+num2\n",
    "print(\"Sum of two given numbers: \", add)\n",
    "\n",
    "#Subtract two numbers\n",
    "sub=num1-num2\n",
    "print(\"Difference of two given numbers: \", sub)\n",
    "\n",
    "#Multiplication\n",
    "mul=num1*num2\n",
    "print(\"Product of two numbers: \", mul)\n",
    "\n",
    "#Division\n",
    "div=num1/num2\n",
    "print(\"Division of two numbers: \", div) #Output of division is always float\n",
    "\n",
    "#Modulus\n",
    "mod=num1%num2\n",
    "print(\"Modulus of two numbers: \", mod)\n",
    "\n",
    "#Exponent\n",
    "exp=num1**num2\n",
    "print(\"Exponent of two numbers: \", exp)"
   ]
  },
  {
   "cell_type": "code",
   "execution_count": null,
   "metadata": {},
   "outputs": [],
   "source": []
  }
 ],
 "metadata": {
  "kernelspec": {
   "display_name": "Python 3",
   "language": "python",
   "name": "python3"
  },
  "language_info": {
   "codemirror_mode": {
    "name": "ipython",
    "version": 3
   },
   "file_extension": ".py",
   "mimetype": "text/x-python",
   "name": "python",
   "nbconvert_exporter": "python",
   "pygments_lexer": "ipython3",
   "version": "3.7.6"
  }
 },
 "nbformat": 4,
 "nbformat_minor": 4
}
