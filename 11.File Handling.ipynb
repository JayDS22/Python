{
 "cells": [
  {
   "cell_type": "code",
   "execution_count": 1,
   "metadata": {},
   "outputs": [
    {
     "name": "stdin",
     "output_type": "stream",
     "text": [
      "Enter text:  Jay Guwalani is a mechnical engineer. He is a very good boy.\n"
     ]
    }
   ],
   "source": [
    "#Creating a file\n",
    "f = open('Jayfile.txt', 'w')\n",
    "\n",
    "#Enter characters from Keyboard\n",
    "str=input(\"Enter text: \")\n",
    "\n",
    "#Write the string in file\n",
    "f.write(str)\n",
    "\n",
    "#close the file\n",
    "f.close()"
   ]
  },
  {
   "cell_type": "code",
   "execution_count": 2,
   "metadata": {},
   "outputs": [
    {
     "name": "stdout",
     "output_type": "stream",
     "text": [
      "Jay Guwalani is a mechnical engineer. He is a very good boy.\n"
     ]
    }
   ],
   "source": [
    "#Reading from a file\n",
    "f = open('Jayfile.txt', 'r')\n",
    "\n",
    "#read all the variables from file\n",
    "str= f.read()\n",
    "\n",
    "#Display that on screen\n",
    "print(str)\n",
    "\n",
    "#close file\n",
    "f.close()"
   ]
  },
  {
   "cell_type": "code",
   "execution_count": 4,
   "metadata": {},
   "outputs": [
    {
     "name": "stdin",
     "output_type": "stream",
     "text": [
      "Enter text:  Simpliliearn is a E-company\n"
     ]
    }
   ],
   "source": [
    "f=open('ABC.txt', 'w')\n",
    "str=input(\"Enter text: \")\n",
    "f.write(str)\n",
    "f.close()\n"
   ]
  },
  {
   "cell_type": "code",
   "execution_count": 5,
   "metadata": {},
   "outputs": [
    {
     "name": "stdout",
     "output_type": "stream",
     "text": [
      "Simpliliearn is a E-company\n"
     ]
    }
   ],
   "source": [
    "f=open('ABC.txt')\n",
    "str=f.read()\n",
    "print(str)\n",
    "f.close()"
   ]
  },
  {
   "cell_type": "code",
   "execution_count": null,
   "metadata": {},
   "outputs": [],
   "source": []
  }
 ],
 "metadata": {
  "kernelspec": {
   "display_name": "Python 3",
   "language": "python",
   "name": "python3"
  },
  "language_info": {
   "codemirror_mode": {
    "name": "ipython",
    "version": 3
   },
   "file_extension": ".py",
   "mimetype": "text/x-python",
   "name": "python",
   "nbconvert_exporter": "python",
   "pygments_lexer": "ipython3",
   "version": "3.7.6"
  }
 },
 "nbformat": 4,
 "nbformat_minor": 4
}
