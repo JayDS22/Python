{
 "cells": [
  {
   "cell_type": "code",
   "execution_count": 12,
   "metadata": {},
   "outputs": [
    {
     "name": "stdout",
     "output_type": "stream",
     "text": [
      "Version Unknown\n"
     ]
    }
   ],
   "source": [
    "version = 13.2\n",
    "if version == 12.1:\n",
    "    print(\"Old\")\n",
    "elif version == 14.1:\n",
    "    print(\"Old\")\n",
    "elif version == 13.1:\n",
    "    print(\"New\")\n",
    "else:\n",
    "    print(\"Version Unknown\")"
   ]
  },
  {
   "cell_type": "code",
   "execution_count": 16,
   "metadata": {},
   "outputs": [
    {
     "name": "stdout",
     "output_type": "stream",
     "text": [
      "Fuck You\n",
      "Fuck You\n",
      "Fuck You\n",
      "Fuck You\n",
      "Fuck You\n",
      "Fuck You\n",
      "Fuck You\n"
     ]
    }
   ],
   "source": [
    "cnt=0\n",
    "while(cnt<7):\n",
    "    cnt = cnt + 1\n",
    "    print(\"Fuck You\")"
   ]
  },
  {
   "cell_type": "code",
   "execution_count": 17,
   "metadata": {},
   "outputs": [
    {
     "name": "stdout",
     "output_type": "stream",
     "text": [
      "The sum is:  243\n"
     ]
    }
   ],
   "source": [
    "#Use for FOR Loop to add numbers of a list\n",
    "\n",
    "Digits = [25,4,55,54,2,3,100]\n",
    "Sum=0\n",
    "\n",
    "for Values in Digits:\n",
    "    Sum= Sum+ Values\n",
    "    \n",
    "print(\"The sum is: \", Sum)\n"
   ]
  },
  {
   "cell_type": "code",
   "execution_count": 19,
   "metadata": {},
   "outputs": [
    {
     "name": "stdout",
     "output_type": "stream",
     "text": [
      "The Sum of 1-100:  5050\n"
     ]
    }
   ],
   "source": [
    "#Use WHILE Loop to find the sum of 1-100\n",
    "\n",
    "\n",
    "x=100 #Declared a variable to check the highest range\n",
    "Sum=0\n",
    "a=1 #to start the calculation\n",
    "while a<=x:\n",
    "     Sum= Sum+a\n",
    "     a=a+1\n",
    "        \n",
    "print(\"The Sum of 1-100: \", Sum)"
   ]
  },
  {
   "cell_type": "code",
   "execution_count": 1,
   "metadata": {},
   "outputs": [],
   "source": [
    "# Conditional Statement\n",
    "# 1. if statement\n",
    "# 2. if..else statement\n",
    "# 3. elif ladder statement\n",
    "# 4. Ternary Operators"
   ]
  },
  {
   "cell_type": "code",
   "execution_count": 2,
   "metadata": {},
   "outputs": [],
   "source": [
    "## Comparison Operators\n",
    "# > , < , >= , == , !\n",
    "\n",
    "## Logical Operators\n",
    "# and, or, not"
   ]
  },
  {
   "cell_type": "code",
   "execution_count": 3,
   "metadata": {},
   "outputs": [
    {
     "name": "stdin",
     "output_type": "stream",
     "text": [
      "Enter your age:  177\n"
     ]
    },
    {
     "name": "stdout",
     "output_type": "stream",
     "text": [
      "Eligible\n"
     ]
    }
   ],
   "source": [
    "#Ternary Operator --  Handle Binary Condition (Short Hand Method)\n",
    "age = int(input(\"Enter your age: \"))\n",
    "result = 'Eligible' if age>= 18 else 'Not Eligible'\n",
    "print(result)"
   ]
  },
  {
   "cell_type": "code",
   "execution_count": 3,
   "metadata": {},
   "outputs": [
    {
     "name": "stdout",
     "output_type": "stream",
     "text": [
      "Odd Numbers:  1\n",
      "Even numbers:  2\n",
      "Odd Numbers:  3\n",
      "Odd Numbers:  5\n",
      "Even numbers:  88\n",
      "Even numbers:  90\n",
      "Even numbers:  4\n"
     ]
    }
   ],
   "source": [
    "#FOR LOOP\n",
    "#Extract even nos. from the list\n",
    "list1= [1,2,3, 5, 88, 90,4]\n",
    "for x in list1:\n",
    "    if x%2 == 0:\n",
    "        print(\"Even numbers: \", x)\n",
    "    else: \n",
    "        print(\"Odd Numbers: \", x)\n",
    "        "
   ]
  },
  {
   "cell_type": "code",
   "execution_count": 4,
   "metadata": {},
   "outputs": [
    {
     "name": "stdout",
     "output_type": "stream",
     "text": [
      "[2, 4, 6, 8]\n"
     ]
    }
   ],
   "source": [
    "list1= [1,2,3,4,5,6,7,8]\n",
    "resultEvenSet=[]\n",
    "for x in list1:\n",
    "    if x%2==0:\n",
    "        resultEvenSet.append(x) #Append is used to add an item at end of the list\n",
    "print(resultEvenSet)"
   ]
  },
  {
   "cell_type": "markdown",
   "metadata": {},
   "source": [
    "# Range Function"
   ]
  },
  {
   "cell_type": "code",
   "execution_count": 6,
   "metadata": {},
   "outputs": [
    {
     "data": {
      "text/plain": [
       "[1, 2, 3, 4, 5, 6, 7, 8, 9]"
      ]
     },
     "execution_count": 6,
     "metadata": {},
     "output_type": "execute_result"
    }
   ],
   "source": [
    "list(range(1,10))#range(start_value, upperBoundValue), upperBoundValue = end_value +1"
   ]
  },
  {
   "cell_type": "code",
   "execution_count": null,
   "metadata": {},
   "outputs": [],
   "source": []
  }
 ],
 "metadata": {
  "kernelspec": {
   "display_name": "Python 3",
   "language": "python",
   "name": "python3"
  },
  "language_info": {
   "codemirror_mode": {
    "name": "ipython",
    "version": 3
   },
   "file_extension": ".py",
   "mimetype": "text/x-python",
   "name": "python",
   "nbconvert_exporter": "python",
   "pygments_lexer": "ipython3",
   "version": "3.7.6"
  }
 },
 "nbformat": 4,
 "nbformat_minor": 4
}
