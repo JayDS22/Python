{
 "cells": [
  {
   "cell_type": "code",
   "execution_count": 2,
   "metadata": {},
   "outputs": [
    {
     "name": "stdout",
     "output_type": "stream",
     "text": [
      "Is A greater than B:  False\n",
      "Is A smaller than B:  True\n",
      "Is A smaller than or equal to B:  True\n",
      "Is A greater than or equal to B:  False\n"
     ]
    }
   ],
   "source": [
    "#Comparision Operations\n",
    "\n",
    "A=110\n",
    "B=115\n",
    "print(\"Is A greater than B: \", A > B)\n",
    "print(\"Is A smaller than B: \", A < B)\n",
    "print(\"Is A smaller than or equal to B: \", A <= B)\n",
    "print(\"Is A greater than or equal to B: \", A >= B)"
   ]
  },
  {
   "cell_type": "code",
   "execution_count": 4,
   "metadata": {},
   "outputs": [
    {
     "name": "stdout",
     "output_type": "stream",
     "text": [
      "After using += Operator:  44\n",
      "After using -= Operator:  37\n",
      "After using *= Operator:  259\n",
      "After using //= Operator:  37.0\n"
     ]
    }
   ],
   "source": [
    "#Assignment Operations\n",
    "\n",
    "Extra=7\n",
    "Final=37\n",
    "Final+=Extra\n",
    "print(\"After using += Operator: \", Final)\n",
    "Final-=Extra\n",
    "print(\"After using -= Operator: \", Final)\n",
    "Final*=Extra\n",
    "print(\"After using *= Operator: \", Final)\n",
    "Final/=Extra\n",
    "print(\"After using //= Operator: \", Final)"
   ]
  },
  {
   "cell_type": "code",
   "execution_count": 6,
   "metadata": {},
   "outputs": [
    {
     "name": "stdout",
     "output_type": "stream",
     "text": [
      " Bitwise And Operation:  2\n",
      " Bitwise Or Opeartion:  90\n",
      " Bitwise Exclusive Or Opeartion:  88\n",
      " Bitwise Not Operation:  -11\n",
      " Bitwise left shift operation:  20\n",
      " Bitwise right shift operation:  5\n"
     ]
    }
   ],
   "source": [
    "#Bitwise Opeartions\n",
    "\n",
    "A=10\n",
    "B=82\n",
    "print(\" Bitwise And Operation: \", A & B)\n",
    "print(\" Bitwise Or Opeartion: \", A | B)\n",
    "print(\" Bitwise Exclusive Or Opeartion: \", A ^ B)\n",
    "print(\" Bitwise Not Operation: \", ~A)\n",
    "print(\" Bitwise left shift operation: \", A << 1)\n",
    "print(\" Bitwise right shift operation: \", A >> 1)"
   ]
  },
  {
   "cell_type": "code",
   "execution_count": 1,
   "metadata": {},
   "outputs": [
    {
     "name": "stdout",
     "output_type": "stream",
     "text": [
      "18\n"
     ]
    }
   ],
   "source": [
    "str1=\"Jay Guwalani is a Engineer\"\n",
    "str2=\"Engineer\"\n",
    "print(str1.index(str2))"
   ]
  },
  {
   "cell_type": "code",
   "execution_count": 3,
   "metadata": {},
   "outputs": [
    {
     "name": "stdout",
     "output_type": "stream",
     "text": [
      "5\n"
     ]
    }
   ],
   "source": [
    "str1=\"Ja-y Good\"\n",
    "str2=\"Good\"\n",
    "print(str1.index(str2))\n"
   ]
  },
  {
   "cell_type": "code",
   "execution_count": 1,
   "metadata": {},
   "outputs": [
    {
     "name": "stdout",
     "output_type": "stream",
     "text": [
      "Concatenation operation:  Jay Guwalanit Is a engineer\n",
      "Repetation operation:  Jay GuwalanitJay Guwalanit\n",
      "Slice operation:  a\n",
      "Range operation:  ay\n",
      "Membership in operation:  True\n",
      "Membership not in operation:  False\n"
     ]
    }
   ],
   "source": [
    "a=\"Jay Guwalanit\"\n",
    "b=\" Is a engineer\"\n",
    "print(\"Concatenation operation: \", a+b)\n",
    "print(\"Repetation operation: \", a*2)\n",
    "print(\"Slice operation: \", a[1])\n",
    "print(\"Range operation: \", a[1:3])\n",
    "print(\"Membership in operation: \", 't' in a)\n",
    "print(\"Membership not in operation: \", 'l' not in a)"
   ]
  },
  {
   "cell_type": "code",
   "execution_count": null,
   "metadata": {},
   "outputs": [],
   "source": []
  }
 ],
 "metadata": {
  "kernelspec": {
   "display_name": "Python 3",
   "language": "python",
   "name": "python3"
  },
  "language_info": {
   "codemirror_mode": {
    "name": "ipython",
    "version": 3
   },
   "file_extension": ".py",
   "mimetype": "text/x-python",
   "name": "python",
   "nbconvert_exporter": "python",
   "pygments_lexer": "ipython3",
   "version": "3.7.6"
  }
 },
 "nbformat": 4,
 "nbformat_minor": 4
}
