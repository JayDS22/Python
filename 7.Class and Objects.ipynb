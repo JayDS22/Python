{
 "cells": [
  {
   "cell_type": "code",
   "execution_count": null,
   "metadata": {},
   "outputs": [
    {
     "name": "stdin",
     "output_type": "stream",
     "text": [
      "Enter Name:  Jay\n"
     ]
    },
    {
     "name": "stdout",
     "output_type": "stream",
     "text": [
      "d-Deposit, w-Withdraw, e-Exit\n"
     ]
    },
    {
     "name": "stdin",
     "output_type": "stream",
     "text": [
      "Your Choice:  d\n",
      "Enter Your Amount:  12000\n"
     ]
    },
    {
     "name": "stdout",
     "output_type": "stream",
     "text": [
      "Balance after deposit :  12000.0\n",
      "d-Deposit, w-Withdraw, e-Exit\n"
     ]
    },
    {
     "name": "stdin",
     "output_type": "stream",
     "text": [
      "Your Choice:  w\n",
      "Enter Your Amount:  5000\n"
     ]
    },
    {
     "name": "stdout",
     "output_type": "stream",
     "text": [
      "Balnce after Withdrawal:  7000.0\n",
      "d-Deposit, w-Withdraw, e-Exit\n"
     ]
    },
    {
     "name": "stdin",
     "output_type": "stream",
     "text": [
      "Your Choice:  d\n",
      "Enter Your Amount:  130000\n"
     ]
    },
    {
     "name": "stdout",
     "output_type": "stream",
     "text": [
      "Balance after deposit :  137000.0\n",
      "d-Deposit, w-Withdraw, e-Exit\n"
     ]
    },
    {
     "name": "stdin",
     "output_type": "stream",
     "text": [
      "Your Choice:  w\n",
      "Enter Your Amount:  138000\n"
     ]
    },
    {
     "name": "stdout",
     "output_type": "stream",
     "text": [
      "Low Balance, can't withdraw\n",
      "Balnce after Withdrawal:  137000.0\n",
      "d-Deposit, w-Withdraw, e-Exit\n"
     ]
    }
   ],
   "source": [
    "#A class to handle deposits and withdrawals from a bank\n",
    "import sys\n",
    "class Bank(object):\n",
    "    \"\"\"Bank related transactions\"\"\"\n",
    "    \n",
    "    #to initialize the name and balance of instance variables\n",
    "    def __init__(self, name, balance=0.0):\n",
    "        self.name=name\n",
    "        self.balance=balance #Declaring the functions as attributes\n",
    "        \n",
    "    #to add deposit amount to existing balance\n",
    "    def deposit(self, amount):\n",
    "        self.balance += amount\n",
    "        return self.balance\n",
    "    \n",
    "    def withdraw(self, amount):\n",
    "        if amount > self.balance: #Using if else, because the initial balance is 0, so can't successfully perform withdraw \n",
    "          print(\"Low Balance, can't withdraw\")\n",
    "        else:\n",
    "            self.balance -= amount #This will withdraw amount from total balance\n",
    "        return self.balance\n",
    "    \n",
    "#We done with the class\n",
    "#Using the class bank \n",
    "#Create an account with the given name and balance 0.00\n",
    "name = input(\"Enter Name: \")\n",
    "b = Bank(name) #declared b as a symbol for bank\n",
    "\n",
    "#Now this process must continue till choice is 'e' or 'E'\n",
    "while(True): #Using while loop to keep the process continued untill required results\n",
    "    print('d-Deposit, w-Withdraw, e-Exit')\n",
    "    choice=input ('Your Choice: ')\n",
    "    if choice == 'e' or choice == 'E':\n",
    "        sys.exit()\n",
    "    #amount for deposit or withdraw\n",
    "    amt = float(input(\"Enter Your Amount: \"))\n",
    "    \n",
    "    #Do the transaction\n",
    "    if choice == 'd' or choice == 'D':\n",
    "        print(\"Balance after deposit : \", b.deposit(amt)) #Calling out the deposit function\n",
    "    elif choice == 'w' or choice == 'W':\n",
    "        print(\"Balnce after Withdrawal: \", b.withdraw(amt)) #calling out withdraw function for the respective bank\n",
    "    "
   ]
  },
  {
   "cell_type": "code",
   "execution_count": null,
   "metadata": {},
   "outputs": [],
   "source": []
  }
 ],
 "metadata": {
  "kernelspec": {
   "display_name": "Python 3",
   "language": "python",
   "name": "python3"
  },
  "language_info": {
   "codemirror_mode": {
    "name": "ipython",
    "version": 3
   },
   "file_extension": ".py",
   "mimetype": "text/x-python",
   "name": "python",
   "nbconvert_exporter": "python",
   "pygments_lexer": "ipython3",
   "version": "3.7.6"
  }
 },
 "nbformat": 4,
 "nbformat_minor": 4
}
