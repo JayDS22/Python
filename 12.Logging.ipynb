{
 "cells": [
  {
   "cell_type": "code",
   "execution_count": null,
   "metadata": {},
   "outputs": [],
   "source": []
  },
  {
   "cell_type": "code",
   "execution_count": 5,
   "metadata": {},
   "outputs": [
    {
     "name": "stdin",
     "output_type": "stream",
     "text": [
      "Enter a number:  12\n",
      "Enter b number:  0\n"
     ]
    }
   ],
   "source": [
    "import logging\n",
    "logging.basicConfig(filename='log.txt',level=logging.ERROR) #Created a basic configured log file, named it\n",
    "#Constants  always in Full Caps\n",
    "#Functions and Method name in small caps\n",
    "\n",
    "try:\n",
    "    a=int(input(\"Enter a number: \"))\n",
    "    b=int(input(\"Enter b number: \"))\n",
    "    c=a/b\n",
    "    \n",
    "except Exception as e:\n",
    "    logging.exception(e) #To log all the exceptions to a file\n",
    "else:\n",
    "    print(\"The Result: \",c)"
   ]
  },
  {
   "cell_type": "code",
   "execution_count": 2,
   "metadata": {},
   "outputs": [],
   "source": [
    "import logging\n",
    "logging.basicConfig( filename='log.txt', level=logging.WARNING)\n",
    "\n",
    "def hypotenuse(a, b):\n",
    "    \"\"\"Compute the hypotenuse\"\"\"\n",
    "    return(a**2 + b**2)**0.5\n",
    "\n",
    "kwargs = {'a':3, 'b':4, 'c': hypotenuse(3, 4)}\n",
    "\n",
    "logging.warning(\"a={a} and b={b} are equal\".format(**kwargs))"
   ]
  },
  {
   "cell_type": "code",
   "execution_count": 14,
   "metadata": {},
   "outputs": [],
   "source": [
    "import logging\n",
    "logging.basicConfig(format='%(asctime)s-%(message)s')\n",
    "\n",
    "def main():\n",
    "    logging.basicConfig(filename=\"log.txt\", level=logging.INFO)\n",
    "    logging.info('Getting Started')\n",
    "    logging.info('Its Finished')\n",
    "    \n",
    "if __name__=='__main__': #Used to call out the function and run it\n",
    "    main()\n",
    "    import logging\n",
    "    logging.info('Doing it')"
   ]
  },
  {
   "cell_type": "code",
   "execution_count": 16,
   "metadata": {},
   "outputs": [],
   "source": [
    "#To display date and time of the logs\n",
    "import logging\n",
    "logging.basicConfig(format='%(asctime)s - %(message)s- %(levelname)s')\n",
    "logging.info('Member logged in')"
   ]
  },
  {
   "cell_type": "code",
   "execution_count": 6,
   "metadata": {},
   "outputs": [],
   "source": [
    "#Specify the format\n",
    "import logging\n",
    "logging.basicConfig(format='%(name)s-%(process)d-%(levelname)s - %(message)s')\n",
    "logging.warning('This shows a warning message')"
   ]
  },
  {
   "cell_type": "code",
   "execution_count": 5,
   "metadata": {},
   "outputs": [
    {
     "ename": "IndentationError",
     "evalue": "unexpected indent (<ipython-input-5-93ed8b1239c3>, line 10)",
     "output_type": "error",
     "traceback": [
      "\u001b[0;36m  File \u001b[0;32m\"<ipython-input-5-93ed8b1239c3>\"\u001b[0;36m, line \u001b[0;32m10\u001b[0m\n\u001b[0;31m    return json.dumps(obj, indent=4) #converts json object to a stream\u001b[0m\n\u001b[0m    ^\u001b[0m\n\u001b[0;31mIndentationError\u001b[0m\u001b[0;31m:\u001b[0m unexpected indent\n"
     ]
    }
   ],
   "source": [
    "#Extended logging using JSON\n",
    "import logging\n",
    "import logging.config\n",
    "import json\n",
    "ATTR_TO_JSON=['created', 'filename','funcName','levelname','levelno','module','msecs','msg','name', 'pathname']\n",
    "\n",
    "class JsonFormatter: #To assign and format JSON attributes\n",
    "    def format(self, record):\n",
    "      obj={attr: getattr(record, attr)for attr in ATTR_TO_JSON} #Defined object as attribute\n",
    "        return json.dumps(obj, indent=4) #converts json object to a stream\n",
    "    \n",
    "#Create a StreamHandler and formatter to handler for json\n",
    "handler=logging.StreamHandler()\n",
    "handler.formatter=JsonFormatter()\n",
    "\n",
    "#Create a module level logger and add handler\n",
    "logger= logging.getlogger(__name__)\n",
    "logging.addHandler(handler)\n",
    "logging.error(\"Hello\")"
   ]
  },
  {
   "cell_type": "code",
   "execution_count": null,
   "metadata": {},
   "outputs": [],
   "source": []
  }
 ],
 "metadata": {
  "kernelspec": {
   "display_name": "Python 3",
   "language": "python",
   "name": "python3"
  },
  "language_info": {
   "codemirror_mode": {
    "name": "ipython",
    "version": 3
   },
   "file_extension": ".py",
   "mimetype": "text/x-python",
   "name": "python",
   "nbconvert_exporter": "python",
   "pygments_lexer": "ipython3",
   "version": "3.7.6"
  }
 },
 "nbformat": 4,
 "nbformat_minor": 4
}
