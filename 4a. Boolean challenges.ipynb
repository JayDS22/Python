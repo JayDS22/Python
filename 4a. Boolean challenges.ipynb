{
 "cells": [
  {
   "cell_type": "code",
   "execution_count": null,
   "metadata": {},
   "outputs": [],
   "source": [
    "#Boolean is tricky, always use 0/1 as input || Method-1"
   ]
  },
  {
   "cell_type": "code",
   "execution_count": 8,
   "metadata": {},
   "outputs": [
    {
     "name": "stdin",
     "output_type": "stream",
     "text": [
      "Enter your salary:  800000\n",
      "Enter your credit:  800\n",
      "Is a student? (0 for False/1 for True):  1\n"
     ]
    },
    {
     "name": "stdout",
     "output_type": "stream",
     "text": [
      "Not Eligible!!!\n"
     ]
    }
   ],
   "source": [
    "salary=int(input(\"Enter your salary: \"))\n",
    "credit=int(input(\"Enter your credit: \"))\n",
    "student=bool(int(input(\"Is a student? (0 for False/1 for True): \"))) #In boolean always use 0/1 as input\n",
    "\n",
    "if salary > 80000 and credit > 700  and student == False :\n",
    "    print(\"Eligible!!!\".format(salary, credit, student))\n",
    "else:\n",
    "    print(\"Not Eligible!!!\".format(salary, credit, student))"
   ]
  },
  {
   "cell_type": "code",
   "execution_count": 11,
   "metadata": {},
   "outputs": [
    {
     "name": "stdin",
     "output_type": "stream",
     "text": [
      "Enter your salary:  89000\n",
      "Enter your credit:  900\n",
      "Is a student? (0 for False/1 for True):  1\n"
     ]
    },
    {
     "name": "stdout",
     "output_type": "stream",
     "text": [
      "Not eligible\n"
     ]
    }
   ],
   "source": [
    "#Boolean is tricky, always use 0/1 as input || Method-1\n",
    "\n",
    "salary=int(input(\"Enter your salary: \"))\n",
    "credit=int(input(\"Enter your credit: \"))\n",
    "student=bool(int(input(\"Is a student? (0 for False/1 for True): \"))) #In boolean always use 0/1 as input\n",
    "\n",
    "if not student:\n",
    "    if salary > 80000 and credit > 700:\n",
    "        print(\"Eligible\")\n",
    "    else: \n",
    "        print(\"Not Eligible\")\n",
    "else:\n",
    "    print(\"Not eligible\")\n",
    "\n"
   ]
  }
 ],
 "metadata": {
  "kernelspec": {
   "display_name": "Python 3",
   "language": "python",
   "name": "python3"
  },
  "language_info": {
   "codemirror_mode": {
    "name": "ipython",
    "version": 3
   },
   "file_extension": ".py",
   "mimetype": "text/x-python",
   "name": "python",
   "nbconvert_exporter": "python",
   "pygments_lexer": "ipython3",
   "version": "3.7.6"
  }
 },
 "nbformat": 4,
 "nbformat_minor": 4
}
