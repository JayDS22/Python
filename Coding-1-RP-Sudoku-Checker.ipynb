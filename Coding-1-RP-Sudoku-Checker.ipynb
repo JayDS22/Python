{
 "cells": [
  {
   "cell_type": "markdown",
   "id": "e94d2683",
   "metadata": {},
   "source": [
    "# Retail Pulse-Coding-1\n",
    "### Check whether the given Sudoku boaard is Valid or Not"
   ]
  },
  {
   "cell_type": "markdown",
   "id": "1556c007",
   "metadata": {},
   "source": [
    "##### A)Check-Row-Duplication"
   ]
  },
  {
   "cell_type": "code",
   "execution_count": 34,
   "id": "3c4adf64",
   "metadata": {},
   "outputs": [],
   "source": [
    "def notInRow(arr, row): \n",
    "    # Set to store characters seen so far. \n",
    "    st = set() \n",
    "    \n",
    "    for i in range(0, 9):  \n",
    "#If already encountered before,function will return False\n",
    "        if arr[row][i] in st: \n",
    "\n",
    "            return arr[row]\n",
    "# If the cell is empty, insert value, at the current cell in the set\n",
    "        if arr[row][i] != '.': \n",
    "\n",
    "            st.add(arr[row][i]) \n",
    "\n",
    "    return True"
   ]
  },
  {
   "cell_type": "markdown",
   "id": "b416ac85",
   "metadata": {},
   "source": [
    "##### B)Check-Col-Duplication"
   ]
  },
  {
   "cell_type": "code",
   "execution_count": 35,
   "id": "79cd0913",
   "metadata": {},
   "outputs": [],
   "source": [
    "def notInCol(arr, col): \n",
    " \n",
    "    st = set() \n",
    "    for i in range(0, 9): \n",
    "#If already encountered before,function will return False\n",
    "        if arr[i][col] in st:\n",
    "\n",
    "            return False\n",
    "# If the cell is empty, insert value, at the current cell in the set\n",
    "\n",
    "        if arr[i][col] != '.': \n",
    "\n",
    "            st.add(arr[i][col]) \n",
    "            return True"
   ]
  },
  {
   "cell_type": "markdown",
   "id": "39df006e",
   "metadata": {},
   "source": [
    "##### C)Check-Box-Duplication"
   ]
  },
  {
   "cell_type": "code",
   "execution_count": 36,
   "id": "db96b23f",
   "metadata": {},
   "outputs": [],
   "source": [
    "def notInBox(arr, startRow, startCol): \n",
    " \n",
    "    st = set() \n",
    "    for row in range(0, 3): \n",
    "\n",
    "        for col in range(0, 3): \n",
    "\n",
    "            curr = arr[row + startRow][col + startCol] \n",
    " #If already encountered before,function will return False\n",
    "\n",
    "            if curr in st: \n",
    "                return False\n",
    "# If the cell is empty, insert value, at the current cell in the set\n",
    "\n",
    "            if curr != '.': \n",
    "                st.add(curr) \n",
    "    return True"
   ]
  },
  {
   "cell_type": "code",
   "execution_count": 37,
   "id": "cecf49ed",
   "metadata": {},
   "outputs": [],
   "source": [
    "##### D) Check Validity"
   ]
  },
  {
   "cell_type": "code",
   "execution_count": 38,
   "id": "78cbca31",
   "metadata": {},
   "outputs": [],
   "source": [
    "def isValid(arr, row, col): \n",
    "\n",
    "    return (notInRow(arr, row) and notInCol(arr, col) and\n",
    "            notInBox(arr, row - row % 3, col - col % 3)) \n",
    " \n",
    "\n",
    "def isValidConfig(arr, n): \n",
    " \n",
    "    for i in range(0, n): \n",
    "\n",
    "        for j in range(0, n): \n",
    "# If  the current (row/column/ 3x3 box) is not valid, it will return false\n",
    "\n",
    "            if not isValid(arr, i, j): \n",
    "\n",
    "                return False\n",
    "    return True"
   ]
  },
  {
   "cell_type": "markdown",
   "id": "c82f6fa9",
   "metadata": {},
   "source": [
    "##### E) Sudoku Board Validation"
   ]
  },
  {
   "cell_type": "code",
   "execution_count": 40,
   "id": "4aa01fdf",
   "metadata": {},
   "outputs": [
    {
     "name": "stdout",
     "output_type": "stream",
     "text": [
      "YES\n"
     ]
    }
   ],
   "source": [
    "if __name__ == \"__main__\":\n",
    " \n",
    "\n",
    "    board = [[ '5', '3', '.', '.', '7', '.', '.', '.', '.' ], \n",
    "\n",
    "             [ '6', '.', '.', '1', '9', '5', '.', '.', '.' ], \n",
    "\n",
    "             [ '.', '9', '8', '.', '.', '.', '.', '6', '.' ], \n",
    "\n",
    "             [ '8', '.', '.', '.', '6', '.', '.', '.', '3' ], \n",
    "\n",
    "             [ '4', '.', '.', '8', '.', '3', '.', '.', '1' ], \n",
    "\n",
    "             [ '7', '.', '.', '.', '2', '.', '.', '.', '6' ], \n",
    "\n",
    "             [ '.', '6', '.', '.', '.', '.', '2', '8', '.' ], \n",
    "\n",
    "             [ '.', '.', '.', '4', '1', '9', '.', '.', '5' ], \n",
    "\n",
    "             [ '.', '.', '.', '.', '8', '.', '.', '7', '9' ]]\n",
    "\n",
    "         \n",
    "\n",
    "    if isValidConfig(board, 9): \n",
    "\n",
    "        print(\"YES\")\n",
    "\n",
    "    else:\n",
    "\n",
    "        print(\"NO\")"
   ]
  },
  {
   "cell_type": "code",
   "execution_count": null,
   "id": "18484a4d",
   "metadata": {},
   "outputs": [],
   "source": []
  }
 ],
 "metadata": {
  "kernelspec": {
   "display_name": "Python 3",
   "language": "python",
   "name": "python3"
  },
  "language_info": {
   "codemirror_mode": {
    "name": "ipython",
    "version": 3
   },
   "file_extension": ".py",
   "mimetype": "text/x-python",
   "name": "python",
   "nbconvert_exporter": "python",
   "pygments_lexer": "ipython3",
   "version": "3.8.8"
  }
 },
 "nbformat": 4,
 "nbformat_minor": 5
}
