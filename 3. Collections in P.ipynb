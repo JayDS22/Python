{
 "cells": [
  {
   "cell_type": "code",
   "execution_count": 1,
   "metadata": {},
   "outputs": [
    {
     "name": "stdout",
     "output_type": "stream",
     "text": [
      "[2, 3, 4, 3, 5, 7]\n",
      "[2, 3, 4, 2, 3, 4]\n",
      "True\n",
      "2\n",
      "3\n",
      "4\n",
      "3\n",
      "5\n",
      "7\n"
     ]
    }
   ],
   "source": [
    "#Lists\n",
    "a=[2,3,4]\n",
    "b=[3,5,7]\n",
    "\n",
    "print(a+b)\n",
    "print(a*2)\n",
    "print(4 in a)\n",
    "\n",
    "#iteration\n",
    "for x in a: \n",
    "   print(x)\n",
    "for x in b:\n",
    " print(x)"
   ]
  },
  {
   "cell_type": "markdown",
   "metadata": {},
   "source": []
  },
  {
   "cell_type": "code",
   "execution_count": 10,
   "metadata": {},
   "outputs": [
    {
     "name": "stdout",
     "output_type": "stream",
     "text": [
      "(2, 3, 4, 3, 5, 7)\n",
      "(2, 3, 4, 2, 3, 4)\n",
      "True\n",
      "2\n",
      "3\n",
      "4\n",
      "3\n",
      "5\n",
      "7\n"
     ]
    }
   ],
   "source": [
    "#TUPLE\n",
    "a=(2,3,4)\n",
    "b=(3,5,7)\n",
    "\n",
    "print(a+b)\n",
    "print(a*2)\n",
    "print(4 in a)\n",
    "\n",
    "#iteration\n",
    "for x in a: \n",
    "   print(x)\n",
    "for x in b:\n",
    " print(x)"
   ]
  },
  {
   "cell_type": "code",
   "execution_count": 32,
   "metadata": {},
   "outputs": [
    {
     "name": "stdout",
     "output_type": "stream",
     "text": [
      "Simplilearn\n",
      "{'company': 'Simplilearn', 'type': 'elearning', 'year': 2019, 'domain': 'content'}\n"
     ]
    }
   ],
   "source": [
    "dict1 = {\"company\": \"Simplilearn\", \"type\": \"elearning\", \"year\": 2019}\n",
    "print(dict1['company'])\n",
    "\n",
    "dict1['domain'] = \"content\"\n",
    "print(dict1)"
   ]
  },
  {
   "cell_type": "code",
   "execution_count": 3,
   "metadata": {},
   "outputs": [
    {
     "data": {
      "text/plain": [
       "7"
      ]
     },
     "execution_count": 3,
     "metadata": {},
     "output_type": "execute_result"
    }
   ],
   "source": [
    "#Accessing Single Element in the List\n",
    "#Index Locations (Starts from 0)\n",
    "a=[3,4,7,89]\n",
    "a[2]"
   ]
  },
  {
   "cell_type": "code",
   "execution_count": 4,
   "metadata": {},
   "outputs": [
    {
     "data": {
      "text/plain": [
       "[3.4, 'Jay', 78]"
      ]
     },
     "execution_count": 4,
     "metadata": {},
     "output_type": "execute_result"
    }
   ],
   "source": [
    "#Accesing the Series of elements\n",
    "#Slicing\n",
    "a=[2,3.4,'Jay',78, 10]\n",
    "a[1:4]"
   ]
  },
  {
   "cell_type": "code",
   "execution_count": 2,
   "metadata": {},
   "outputs": [
    {
     "data": {
      "text/plain": [
       "5"
      ]
     },
     "execution_count": 2,
     "metadata": {},
     "output_type": "execute_result"
    }
   ],
   "source": [
    "Variable1=[1.2, 'India', [1,2,3,3,4,5], True, ['Mumabai', 'Maharastra']]\n",
    "len(Variable1)"
   ]
  },
  {
   "cell_type": "code",
   "execution_count": 3,
   "metadata": {},
   "outputs": [
    {
     "data": {
      "text/plain": [
       "'Mumabai'"
      ]
     },
     "execution_count": 3,
     "metadata": {},
     "output_type": "execute_result"
    }
   ],
   "source": [
    "Variable1[4][0]"
   ]
  },
  {
   "cell_type": "code",
   "execution_count": 4,
   "metadata": {},
   "outputs": [
    {
     "data": {
      "text/plain": [
       "[2, 3, 3]"
      ]
     },
     "execution_count": 4,
     "metadata": {},
     "output_type": "execute_result"
    }
   ],
   "source": [
    "Variable1[2][1:4]"
   ]
  },
  {
   "cell_type": "code",
   "execution_count": 7,
   "metadata": {},
   "outputs": [],
   "source": [
    "#Modifying Elements\n",
    "Variable1[3]= False\n"
   ]
  },
  {
   "cell_type": "code",
   "execution_count": 9,
   "metadata": {},
   "outputs": [
    {
     "data": {
      "text/plain": [
       "[1.2, 'India', [1, 2, 3, 3, 4, 5], False, ['Mumabai', 'Maharastra']]"
      ]
     },
     "execution_count": 9,
     "metadata": {},
     "output_type": "execute_result"
    }
   ],
   "source": [
    "Variable1"
   ]
  },
  {
   "cell_type": "code",
   "execution_count": 10,
   "metadata": {},
   "outputs": [],
   "source": [
    "#Thus list is a Mutable collection"
   ]
  },
  {
   "cell_type": "markdown",
   "metadata": {},
   "source": [
    "# Dictionary"
   ]
  },
  {
   "cell_type": "code",
   "execution_count": 15,
   "metadata": {},
   "outputs": [
    {
     "ename": "SyntaxError",
     "evalue": "invalid syntax (<ipython-input-15-c7b1ece33e81>, line 8)",
     "output_type": "error",
     "traceback": [
      "\u001b[0;36m  File \u001b[0;32m\"<ipython-input-15-c7b1ece33e81>\"\u001b[0;36m, line \u001b[0;32m8\u001b[0m\n\u001b[0;31m    return(stateAndCapitals):\u001b[0m\n\u001b[0m                            ^\u001b[0m\n\u001b[0;31mSyntaxError\u001b[0m\u001b[0;31m:\u001b[0m invalid syntax\n"
     ]
    }
   ],
   "source": [
    "#Helps you maintain your data in the form of KEY-VALUE pair\n",
    "#E.g. Lookup Table, Conversion Table #Here the conversion is decided by the domain\n",
    "#Camel Case (Preferable writting practice for variables)\n",
    "stateAndCapitals = {\n",
    "    'Gujarat' : 'Gandhinagar', \n",
    "    'Karanataka' : 'Bengaluru'\n",
    "}\n"
   ]
  },
  {
   "cell_type": "code",
   "execution_count": 16,
   "metadata": {},
   "outputs": [
    {
     "data": {
      "text/plain": [
       "{'Gujarat': 'Gandhinagar', 'Karanataka': 'Bengaluru'}"
      ]
     },
     "execution_count": 16,
     "metadata": {},
     "output_type": "execute_result"
    }
   ],
   "source": [
    "stateAndCapitals"
   ]
  },
  {
   "cell_type": "code",
   "execution_count": 19,
   "metadata": {},
   "outputs": [
    {
     "data": {
      "text/plain": [
       "'Gandhinagar'"
      ]
     },
     "execution_count": 19,
     "metadata": {},
     "output_type": "execute_result"
    }
   ],
   "source": [
    "#Access the content based on key #Calling out the key we get value\n",
    "stateAndCapitals['Gujarat']"
   ]
  },
  {
   "cell_type": "code",
   "execution_count": 22,
   "metadata": {},
   "outputs": [],
   "source": [
    "#Dictionary is Mutable\n",
    "stateAndCapitals['Goa'] = 'Panjim'"
   ]
  },
  {
   "cell_type": "code",
   "execution_count": 23,
   "metadata": {},
   "outputs": [
    {
     "data": {
      "text/plain": [
       "{'Gujarat': 'Gandhinagar', 'Karanataka': 'Bengaluru', 'Goa': 'Panjim'}"
      ]
     },
     "execution_count": 23,
     "metadata": {},
     "output_type": "execute_result"
    }
   ],
   "source": [
    "stateAndCapitals"
   ]
  },
  {
   "cell_type": "code",
   "execution_count": 25,
   "metadata": {},
   "outputs": [
    {
     "data": {
      "text/plain": [
       "True"
      ]
     },
     "execution_count": 25,
     "metadata": {},
     "output_type": "execute_result"
    }
   ],
   "source": [
    "#Verify wheather the data exists or not\n",
    "#In operator\n",
    "'Gujarat' in stateAndCapitals "
   ]
  },
  {
   "cell_type": "code",
   "execution_count": 26,
   "metadata": {},
   "outputs": [
    {
     "data": {
      "text/plain": [
       "{'Gujarat': 'Gandhinagar', 'Karanataka': 'Bengaluru'}"
      ]
     },
     "execution_count": 26,
     "metadata": {},
     "output_type": "execute_result"
    }
   ],
   "source": [
    "#Delete KEY-VALUE pair\n",
    "del stateAndCapitals['Goa']\n",
    "stateAndCapitals"
   ]
  },
  {
   "cell_type": "markdown",
   "metadata": {},
   "source": [
    "# Set"
   ]
  },
  {
   "cell_type": "code",
   "execution_count": 29,
   "metadata": {},
   "outputs": [
    {
     "data": {
      "text/plain": [
       "[1, 2, 3, 4, 5, 6, 43.3, 55, 664]"
      ]
     },
     "execution_count": 29,
     "metadata": {},
     "output_type": "execute_result"
    }
   ],
   "source": [
    "#To avoid duplications\n",
    "list1= [1,2,3,4,4,5,55,6,664,43.3,2,55]\n",
    "list2=list(set(list1))\n",
    "list2"
   ]
  },
  {
   "cell_type": "code",
   "execution_count": 30,
   "metadata": {},
   "outputs": [],
   "source": [
    "del list2[2]"
   ]
  },
  {
   "cell_type": "code",
   "execution_count": 31,
   "metadata": {},
   "outputs": [
    {
     "data": {
      "text/plain": [
       "[1, 2, 4, 5, 6, 43.3, 55, 664]"
      ]
     },
     "execution_count": 31,
     "metadata": {},
     "output_type": "execute_result"
    }
   ],
   "source": [
    "list2"
   ]
  },
  {
   "cell_type": "code",
   "execution_count": null,
   "metadata": {},
   "outputs": [],
   "source": []
  }
 ],
 "metadata": {
  "kernelspec": {
   "display_name": "Python 3",
   "language": "python",
   "name": "python3"
  },
  "language_info": {
   "codemirror_mode": {
    "name": "ipython",
    "version": 3
   },
   "file_extension": ".py",
   "mimetype": "text/x-python",
   "name": "python",
   "nbconvert_exporter": "python",
   "pygments_lexer": "ipython3",
   "version": "3.7.6"
  }
 },
 "nbformat": 4,
 "nbformat_minor": 4
}
