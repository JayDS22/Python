{
 "cells": [
  {
   "cell_type": "code",
   "execution_count": 1,
   "metadata": {},
   "outputs": [
    {
     "name": "stdout",
     "output_type": "stream",
     "text": [
      "42.4\n",
      "<class 'float'>\n"
     ]
    }
   ],
   "source": [
    "num1=20\n",
    "num2=22.4\n",
    "add=num1+num2\n",
    "print(add)\n",
    "print(type(add))"
   ]
  },
  {
   "cell_type": "code",
   "execution_count": 2,
   "metadata": {},
   "outputs": [
    {
     "name": "stdout",
     "output_type": "stream",
     "text": [
      "Data type of num1: <class 'int'>\n",
      "Data type of num2 before type casting: <class 'str'>\n",
      "Data type of num2 after type casting: <class 'int'>\n",
      "Addition of num1 and num2: 105\n",
      "Data type of add: <class 'int'>\n"
     ]
    }
   ],
   "source": [
    "num1=50\n",
    "num2=\"55\" #string data type\n",
    "print(\"Data type of num1:\",type(num1))\n",
    "print(\"Data type of num2 before type casting:\",type(num2))\n",
    "num2=int(num2) #Type Casting\n",
    "print(\"Data type of num2 after type casting:\",type(num2))\n",
    "add=num1+num2\n",
    "print(\"Addition of num1 and num2:\",add)\n",
    "print(\"Data type of add:\",type(add))\n"
   ]
  },
  {
   "cell_type": "code",
   "execution_count": null,
   "metadata": {},
   "outputs": [],
   "source": []
  }
 ],
 "metadata": {
  "kernelspec": {
   "display_name": "Python 3",
   "language": "python",
   "name": "python3"
  },
  "language_info": {
   "codemirror_mode": {
    "name": "ipython",
    "version": 3
   },
   "file_extension": ".py",
   "mimetype": "text/x-python",
   "name": "python",
   "nbconvert_exporter": "python",
   "pygments_lexer": "ipython3",
   "version": "3.7.6"
  }
 },
 "nbformat": 4,
 "nbformat_minor": 4
}
